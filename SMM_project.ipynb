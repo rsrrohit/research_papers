{
 "cells": [
  {
   "cell_type": "code",
   "execution_count": 6,
   "metadata": {},
   "outputs": [],
   "source": [
    "import pickle\n",
    "import os\n",
    "\n",
    "actualData = []\n",
    "directory = \"html/\"\n",
    "for file in os.listdir(directory):\n",
    "    if file.endswith(\".pkl\"):\n",
    "        a = file.split(\".\")\n",
    "        with open(directory+file, \"rb\") as fp:\n",
    "            data = pickle.load(fp)\n",
    "            actualData.append((str(a[0]), data))"
   ]
  },
  {
   "cell_type": "code",
   "execution_count": 8,
   "metadata": {},
   "outputs": [],
   "source": [
    "youtubeRaw = \"\"\n",
    "for videoId, dataList in actualData:\n",
    "    for eachDataPoint in dataList:\n",
    "        youtubeRaw += eachDataPoint[1]"
   ]
  },
  {
   "cell_type": "code",
   "execution_count": 9,
   "metadata": {},
   "outputs": [
    {
     "data": {
      "text/plain": [
       "1913787"
      ]
     },
     "execution_count": 9,
     "metadata": {},
     "output_type": "execute_result"
    }
   ],
   "source": [
    "# Code in this cell and the following cells taken from \n",
    "# https://github.com/kapadias/mediumposts/blob/master/nlp/published_notebooks/Introduction%20to%20Topic%20Modeling.ipynb\n",
    "import nltk, pprint\n",
    "from nltk import word_tokenize\n",
    "\n",
    "tokens = word_tokenize(raw)\n",
    "words = [each.lower() for each in tokens]\n",
    "import re, string\n",
    "from nltk.corpus import stopwords\n",
    "stop_words = stopwords.words('english')\n",
    "cleaned_tokens = []\n",
    "for token in tokens:\n",
    "    token = re.sub('http[s]?://(?:[a-zA-Z]|[0-9]|[$-_@.&+#]|[!*\\(\\),]|'\\\n",
    "                       '(?:%[0-9a-fA-F][0-9a-fA-F]))+','', token)\n",
    "    token = re.sub(\"(@[A-Za-z0-9_]+)\",\"\", token)\n",
    "    if len(token) > 0 and token not in string.punctuation and token.lower() not in stop_words:\n",
    "        cleaned_tokens.append(token.lower())\n",
    "print(\"Total tokens: \", len(cleaned_tokens))\n"
   ]
  },
  {
   "cell_type": "code",
   "execution_count": null,
   "metadata": {},
   "outputs": [],
   "source": []
  }
 ],
 "metadata": {
  "kernelspec": {
   "display_name": "Python 3",
   "language": "python",
   "name": "python3"
  },
  "language_info": {
   "codemirror_mode": {
    "name": "ipython",
    "version": 3
   },
   "file_extension": ".py",
   "mimetype": "text/x-python",
   "name": "python",
   "nbconvert_exporter": "python",
   "pygments_lexer": "ipython3",
   "version": "3.7.4"
  }
 },
 "nbformat": 4,
 "nbformat_minor": 2
}
